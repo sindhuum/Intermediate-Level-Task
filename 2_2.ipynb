{
  "nbformat": 4,
  "nbformat_minor": 0,
  "metadata": {
    "colab": {
      "provenance": [],
      "authorship_tag": "ABX9TyNxy8EgdAZA7N7wGD5C2nBV",
      "include_colab_link": true
    },
    "kernelspec": {
      "name": "python3",
      "display_name": "Python 3"
    },
    "language_info": {
      "name": "python"
    }
  },
  "cells": [
    {
      "cell_type": "markdown",
      "metadata": {
        "id": "view-in-github",
        "colab_type": "text"
      },
      "source": [
        "<a href=\"https://colab.research.google.com/github/sindhuum/Intermediate-Level-Task/blob/main/2_2.ipynb\" target=\"_parent\"><img src=\"https://colab.research.google.com/assets/colab-badge.svg\" alt=\"Open In Colab\"/></a>"
      ]
    },
    {
      "cell_type": "code",
      "execution_count": 1,
      "metadata": {
        "colab": {
          "base_uri": "https://localhost:8080/"
        },
        "id": "ZK0iZKNVrHfz",
        "outputId": "1d608cd2-15d0-4a2b-c8f3-5b74389f1c98"
      },
      "outputs": [
        {
          "output_type": "stream",
          "name": "stdout",
          "text": [
            "\n",
            "🎮 Welcome to Hangman with Hints!\n",
            "\n",
            "💡 Hint: A popular programming language\n",
            "Word: _ _ _ _ _ _\n",
            "\n",
            "🔤 Enter a letter (or type 'exit' to quit): k\n",
            "❌ Incorrect! Attempts left: 5\n",
            "Word: _ _ _ _ _ _\n",
            "\n",
            "🔤 Enter a letter (or type 'exit' to quit): e\n",
            "❌ Incorrect! Attempts left: 4\n",
            "Word: _ _ _ _ _ _\n",
            "\n",
            "🔤 Enter a letter (or type 'exit' to quit): k\n",
            "⚠️ You already guessed that letter.\n",
            "\n",
            "🔤 Enter a letter (or type 'exit' to quit): p\n",
            "✅ Good guess!\n",
            "Word: p _ _ _ _ _\n",
            "\n",
            "🔤 Enter a letter (or type 'exit' to quit): y\n",
            "✅ Good guess!\n",
            "Word: p y _ _ _ _\n",
            "\n",
            "🔤 Enter a letter (or type 'exit' to quit): o\n",
            "✅ Good guess!\n",
            "Word: p y _ _ o _\n",
            "\n",
            "🔤 Enter a letter (or type 'exit' to quit): n\n",
            "✅ Good guess!\n",
            "Word: p y _ _ o n\n",
            "\n",
            "🔤 Enter a letter (or type 'exit' to quit): h\n",
            "✅ Good guess!\n",
            "Word: p y _ h o n\n",
            "\n",
            "🔤 Enter a letter (or type 'exit' to quit): t\n",
            "✅ Good guess!\n",
            "Word: p y t h o n\n",
            "\n",
            "🎉 Congratulations! You guessed the word: PYTHON\n"
          ]
        }
      ],
      "source": [
        "import random\n",
        "\n",
        "def hangman_game():\n",
        "    print(\"\\n🎮 Welcome to Hangman with Hints!\")\n",
        "\n",
        "    # Words and associated hints\n",
        "    words_with_hints = {\n",
        "        \"python\": \"A popular programming language\",\n",
        "        \"elephant\": \"The largest land animal\",\n",
        "        \"keyboard\": \"Used to type on a computer\",\n",
        "        \"umbrella\": \"Used to protect from rain\",\n",
        "        \"mountain\": \"A large natural elevation of the Earth's surface\",\n",
        "        \"telescope\": \"Used to look at distant stars\",\n",
        "        \"internet\": \"Global network connecting devices\",\n",
        "        \"oxygen\": \"Essential gas for human survival\"\n",
        "    }\n",
        "\n",
        "    # Choose a random word and hint\n",
        "    word, hint = random.choice(list(words_with_hints.items()))\n",
        "    guessed_letters = []\n",
        "    attempts_left = 6\n",
        "\n",
        "    print(f\"\\n💡 Hint: {hint}\")\n",
        "    print(\"Word: \" + \" \".join(\"_\" for _ in word))\n",
        "\n",
        "    while attempts_left > 0:\n",
        "        guess = input(\"\\n🔤 Enter a letter (or type 'exit' to quit): \").lower()\n",
        "\n",
        "        if guess == \"exit\":\n",
        "            print(\"👋 Game exited. Goodbye!\")\n",
        "            break\n",
        "\n",
        "        if len(guess) != 1 or not guess.isalpha():\n",
        "            print(\"❗ Please enter a single letter.\")\n",
        "            continue\n",
        "\n",
        "        if guess in guessed_letters:\n",
        "            print(\"⚠️ You already guessed that letter.\")\n",
        "            continue\n",
        "\n",
        "        guessed_letters.append(guess)\n",
        "\n",
        "        if guess in word:\n",
        "            print(\"✅ Good guess!\")\n",
        "        else:\n",
        "            attempts_left -= 1\n",
        "            print(f\"❌ Incorrect! Attempts left: {attempts_left}\")\n",
        "\n",
        "        display_word = [letter if letter in guessed_letters else \"_\" for letter in word]\n",
        "        print(\"Word: \" + \" \".join(display_word))\n",
        "\n",
        "        if \"_\" not in display_word:\n",
        "            print(f\"\\n🎉 Congratulations! You guessed the word: {word.upper()}\")\n",
        "            break\n",
        "    else:\n",
        "        print(f\"\\n💀 You ran out of attempts! The word was: {word.upper()}\")\n",
        "\n",
        "# Run the game\n",
        "if __name__ == \"__main__\":\n",
        "    hangman_game()\n"
      ]
    }
  ]
}